{
 "cells": [
  {
   "cell_type": "code",
   "execution_count": 2,
   "id": "c3e8489e",
   "metadata": {},
   "outputs": [],
   "source": [
    "import epoch_based_evolution as ebe\n",
    "import load_data as ld # for loading and transforming data"
   ]
  },
  {
   "cell_type": "code",
   "execution_count": 3,
   "id": "fcc76447",
   "metadata": {},
   "outputs": [
    {
     "name": "stdout",
     "output_type": "stream",
     "text": [
      "Categorical features detected: ['V1', 'V2', 'V3', 'V4', 'V5', 'V6', 'V7', 'V8', 'V9', 'V10', 'V11', 'V12', 'V14', 'V15', 'V16', 'V17', 'V18', 'V19', 'V20', 'V21', 'V22', 'V24', 'V25', 'V26', 'V27', 'V28', 'V29', 'V30', 'V31', 'V32', 'V33', 'V34', 'V35', 'V36', 'V37', 'V38', 'V39', 'V40', 'V41', 'V42', 'V44', 'V46', 'V47', 'V48', 'V49', 'V50', 'V51', 'V52', 'V53', 'V54', 'V55', 'V57', 'V58', 'V60', 'V61', 'V62', 'V63', 'V64', 'V65', 'V66', 'V67', 'V68', 'V69', 'V70', 'V71', 'V72', 'V73', 'V74', 'V75', 'V76', 'V77', 'V78', 'V79', 'V80', 'V81', 'V82', 'V83', 'V84', 'V85', 'V86', 'V87', 'V88', 'V89', 'V90', 'V91', 'V92', 'V93', 'V94', 'V95', 'V96', 'V97', 'V98', 'V99', 'V100', 'V101', 'V102', 'V103', 'V104', 'V105', 'V106', 'V107', 'V108', 'V109', 'V110', 'V111', 'V112', 'V113', 'V114', 'V115', 'V116', 'V117', 'V118', 'V119', 'V120', 'V121', 'V122', 'V123', 'V124', 'V125', 'V127', 'V128', 'V129', 'V130', 'V132', 'V133', 'V134', 'V135', 'V136', 'V137', 'V138', 'V139', 'V140', 'V141', 'V142', 'V143', 'V144']\n",
      "Class column is not numeric. Applying LabelEncoder.\n",
      "Data loaded successfully! Format: tensor\n",
      "Training data shape: torch.Size([1909, 280])\n"
     ]
    }
   ],
   "source": [
    "DATA_ID = 41143\n",
    "X_train, y_train, X_val, y_val, X_test, y_test = ld.get_preprocessed_data(\n",
    "        dataset_id=DATA_ID, scaling=True, random_seed=13, return_as='tensor')\n",
    "\n",
    "input_size, output_size = ld.get_tensor_sizes(X_train, y_train)"
   ]
  },
  {
   "cell_type": "markdown",
   "id": "9501cba7",
   "metadata": {},
   "source": [
    "# EBE"
   ]
  },
  {
   "cell_type": "code",
   "execution_count": 4,
   "id": "a4a44bb3",
   "metadata": {},
   "outputs": [],
   "source": [
    "# The search space for the architectures is defined here.\n",
    "search_space = ebe.SearchSpace(input_size=input_size, output_size=output_size)"
   ]
  },
  {
   "cell_type": "code",
   "execution_count": 5,
   "id": "34c67cfd",
   "metadata": {},
   "outputs": [],
   "source": [
    "N_INDIVIDUALS = 100\n",
    "N_EPOCHS = 5\n",
    "# percentile_drop = 25"
   ]
  },
  {
   "cell_type": "code",
   "execution_count": 6,
   "id": "59f27335",
   "metadata": {},
   "outputs": [],
   "source": [
    "# The generation is created given the search space and the number of individuals.\n",
    "generation = ebe.Generation(search_space, N_INDIVIDUALS)"
   ]
  },
  {
   "cell_type": "code",
   "execution_count": 7,
   "id": "4fb16863",
   "metadata": {},
   "outputs": [
    {
     "name": "stdout",
     "output_type": "stream",
     "text": [
      "Epoch 1/5\n",
      "Epoch 2/5\n",
      "Epoch 3/5\n",
      "Epoch 4/5\n",
      "Epoch 5/5\n"
     ]
    }
   ],
   "source": [
    "generation.run_ebe(n_epochs=N_EPOCHS,\n",
    "                    X_train=X_train,\n",
    "                    y_train=y_train,\n",
    "                    X_val=X_val,\n",
    "                    y_val=y_val)\n",
    "\n",
    "results_df = generation.return_df()"
   ]
  },
  {
   "cell_type": "code",
   "execution_count": 11,
   "id": "ff1545ee",
   "metadata": {},
   "outputs": [
    {
     "data": {
      "application/vnd.microsoft.datawrangler.viewer.v0+json": {
       "columns": [
        {
         "name": "index",
         "rawType": "int64",
         "type": "integer"
        },
        {
         "name": "hidden_layers",
         "rawType": "object",
         "type": "unknown"
        },
        {
         "name": "activation_fn",
         "rawType": "object",
         "type": "unknown"
        },
        {
         "name": "dropout_rate",
         "rawType": "float64",
         "type": "float"
        },
        {
         "name": "optimizer_type",
         "rawType": "object",
         "type": "unknown"
        },
        {
         "name": "learning_rate",
         "rawType": "float64",
         "type": "float"
        },
        {
         "name": "batch_size",
         "rawType": "int64",
         "type": "integer"
        },
        {
         "name": "train_loss",
         "rawType": "float64",
         "type": "float"
        },
        {
         "name": "train_acc",
         "rawType": "float64",
         "type": "float"
        },
        {
         "name": "val_loss",
         "rawType": "float64",
         "type": "float"
        },
        {
         "name": "val_acc",
         "rawType": "float64",
         "type": "float"
        }
       ],
       "conversionMethod": "pd.DataFrame",
       "ref": "6248a615-e3cf-40b6-ba06-5edab1012fd4",
       "rows": [
        [
         "0",
         "[74, 137, 217, 281, 93, 132, 128]",
         "<class 'torch.nn.modules.activation.LeakyReLU'>",
         "0.1",
         "<class 'torch.optim.adam.Adam'>",
         "0.004646037335035708",
         "32",
         "0.39334413001773366",
         "0.8308014667365112",
         "0.49311467543805493",
         "0.7740585774058577"
        ],
        [
         "1",
         "[376, 275, 118, 160]",
         "<class 'torch.nn.modules.activation.LeakyReLU'>",
         "0.1",
         "<class 'torch.optim.adam.Adam'>",
         "0.0023244084517093358",
         "1024",
         "0.3881885630413773",
         "0.8308014667365112",
         "0.4822784662246704",
         "0.7656903765690377"
        ],
        [
         "2",
         "[426, 166]",
         "<class 'torch.nn.modules.activation.Sigmoid'>",
         "0.1",
         "<class 'torch.optim.adam.Adam'>",
         "0.005916809486739104",
         "32",
         "0.3742673900456501",
         "0.8088004190675746",
         "0.4903093731054202",
         "0.7656903765690377"
        ],
        [
         "3",
         "[141, 182, 220, 256, 97]",
         "<class 'torch.nn.modules.activation.LeakyReLU'>",
         "0.0",
         "<class 'torch.optim.adam.Adam'>",
         "0.004665338753889688",
         "1024",
         "0.3930485768271966",
         "0.8334206390780513",
         "0.4707868993282318",
         "0.7615062761506276"
        ],
        [
         "4",
         "[270, 59, 20, 254]",
         "<class 'torch.nn.modules.activation.LeakyReLU'>",
         "0.2",
         "<class 'torch.optim.adam.Adam'>",
         "0.006652778736108981",
         "1024",
         "0.4041582331131615",
         "0.819800942902043",
         "0.4939056634902954",
         "0.7615062761506276"
        ],
        [
         "5",
         "[404, 242, 68]",
         "<class 'torch.nn.modules.activation.ReLU'>",
         "0.5",
         "<class 'torch.optim.adam.Adam'>",
         "0.003844769072554294",
         "256",
         "0.36305197002439366",
         "0.8438973284442116",
         "0.495681566174559",
         "0.7615062761506276"
        ],
        [
         "6",
         "[120, 473, 175, 453, 314, 173]",
         "<class 'torch.nn.modules.activation.ReLU'>",
         "0.0",
         "<class 'torch.optim.adam.Adam'>",
         "0.009848406262089538",
         "128",
         "0.360099319561793",
         "0.8313253012048193",
         "0.49695221450039534",
         "0.7594142259414226"
        ],
        [
         "7",
         "[165, 171, 497, 210, 72, 98]",
         "<class 'torch.nn.modules.activation.Sigmoid'>",
         "0.2",
         "<class 'torch.optim.adam.Adam'>",
         "0.002819048794690195",
         "64",
         "0.462038889129228",
         "0.78365636458879",
         "0.46492560463470395",
         "0.7594142259414226"
        ],
        [
         "8",
         "[224, 378, 417, 395, 247, 272]",
         "<class 'torch.nn.modules.activation.LeakyReLU'>",
         "0.1",
         "<class 'torch.optim.adam.Adam'>",
         "0.0027833791951483522",
         "1024",
         "0.42195837178612455",
         "0.7888947092718701",
         "0.48733460903167725",
         "0.7594142259414226"
        ],
        [
         "9",
         "[70, 396, 357, 279, 451, 70]",
         "<class 'torch.nn.modules.activation.LeakyReLU'>",
         "0.2",
         "<class 'torch.optim.adam.Adam'>",
         "0.0033913228389752066",
         "64",
         "0.36029074946394013",
         "0.8349921424829754",
         "0.490879535425657",
         "0.7552301255230126"
        ]
       ],
       "shape": {
        "columns": 10,
        "rows": 10
       }
      },
      "text/html": [
       "<div>\n",
       "<style scoped>\n",
       "    .dataframe tbody tr th:only-of-type {\n",
       "        vertical-align: middle;\n",
       "    }\n",
       "\n",
       "    .dataframe tbody tr th {\n",
       "        vertical-align: top;\n",
       "    }\n",
       "\n",
       "    .dataframe thead th {\n",
       "        text-align: right;\n",
       "    }\n",
       "</style>\n",
       "<table border=\"1\" class=\"dataframe\">\n",
       "  <thead>\n",
       "    <tr style=\"text-align: right;\">\n",
       "      <th></th>\n",
       "      <th>hidden_layers</th>\n",
       "      <th>activation_fn</th>\n",
       "      <th>dropout_rate</th>\n",
       "      <th>optimizer_type</th>\n",
       "      <th>learning_rate</th>\n",
       "      <th>batch_size</th>\n",
       "      <th>train_loss</th>\n",
       "      <th>train_acc</th>\n",
       "      <th>val_loss</th>\n",
       "      <th>val_acc</th>\n",
       "    </tr>\n",
       "  </thead>\n",
       "  <tbody>\n",
       "    <tr>\n",
       "      <th>0</th>\n",
       "      <td>[74, 137, 217, 281, 93, 132, 128]</td>\n",
       "      <td>&lt;class 'torch.nn.modules.activation.LeakyReLU'&gt;</td>\n",
       "      <td>0.1</td>\n",
       "      <td>&lt;class 'torch.optim.adam.Adam'&gt;</td>\n",
       "      <td>0.004646</td>\n",
       "      <td>32</td>\n",
       "      <td>0.393344</td>\n",
       "      <td>0.830801</td>\n",
       "      <td>0.493115</td>\n",
       "      <td>0.774059</td>\n",
       "    </tr>\n",
       "    <tr>\n",
       "      <th>1</th>\n",
       "      <td>[376, 275, 118, 160]</td>\n",
       "      <td>&lt;class 'torch.nn.modules.activation.LeakyReLU'&gt;</td>\n",
       "      <td>0.1</td>\n",
       "      <td>&lt;class 'torch.optim.adam.Adam'&gt;</td>\n",
       "      <td>0.002324</td>\n",
       "      <td>1024</td>\n",
       "      <td>0.388189</td>\n",
       "      <td>0.830801</td>\n",
       "      <td>0.482278</td>\n",
       "      <td>0.765690</td>\n",
       "    </tr>\n",
       "    <tr>\n",
       "      <th>2</th>\n",
       "      <td>[426, 166]</td>\n",
       "      <td>&lt;class 'torch.nn.modules.activation.Sigmoid'&gt;</td>\n",
       "      <td>0.1</td>\n",
       "      <td>&lt;class 'torch.optim.adam.Adam'&gt;</td>\n",
       "      <td>0.005917</td>\n",
       "      <td>32</td>\n",
       "      <td>0.374267</td>\n",
       "      <td>0.808800</td>\n",
       "      <td>0.490309</td>\n",
       "      <td>0.765690</td>\n",
       "    </tr>\n",
       "    <tr>\n",
       "      <th>3</th>\n",
       "      <td>[141, 182, 220, 256, 97]</td>\n",
       "      <td>&lt;class 'torch.nn.modules.activation.LeakyReLU'&gt;</td>\n",
       "      <td>0.0</td>\n",
       "      <td>&lt;class 'torch.optim.adam.Adam'&gt;</td>\n",
       "      <td>0.004665</td>\n",
       "      <td>1024</td>\n",
       "      <td>0.393049</td>\n",
       "      <td>0.833421</td>\n",
       "      <td>0.470787</td>\n",
       "      <td>0.761506</td>\n",
       "    </tr>\n",
       "    <tr>\n",
       "      <th>4</th>\n",
       "      <td>[270, 59, 20, 254]</td>\n",
       "      <td>&lt;class 'torch.nn.modules.activation.LeakyReLU'&gt;</td>\n",
       "      <td>0.2</td>\n",
       "      <td>&lt;class 'torch.optim.adam.Adam'&gt;</td>\n",
       "      <td>0.006653</td>\n",
       "      <td>1024</td>\n",
       "      <td>0.404158</td>\n",
       "      <td>0.819801</td>\n",
       "      <td>0.493906</td>\n",
       "      <td>0.761506</td>\n",
       "    </tr>\n",
       "    <tr>\n",
       "      <th>5</th>\n",
       "      <td>[404, 242, 68]</td>\n",
       "      <td>&lt;class 'torch.nn.modules.activation.ReLU'&gt;</td>\n",
       "      <td>0.5</td>\n",
       "      <td>&lt;class 'torch.optim.adam.Adam'&gt;</td>\n",
       "      <td>0.003845</td>\n",
       "      <td>256</td>\n",
       "      <td>0.363052</td>\n",
       "      <td>0.843897</td>\n",
       "      <td>0.495682</td>\n",
       "      <td>0.761506</td>\n",
       "    </tr>\n",
       "    <tr>\n",
       "      <th>6</th>\n",
       "      <td>[120, 473, 175, 453, 314, 173]</td>\n",
       "      <td>&lt;class 'torch.nn.modules.activation.ReLU'&gt;</td>\n",
       "      <td>0.0</td>\n",
       "      <td>&lt;class 'torch.optim.adam.Adam'&gt;</td>\n",
       "      <td>0.009848</td>\n",
       "      <td>128</td>\n",
       "      <td>0.360099</td>\n",
       "      <td>0.831325</td>\n",
       "      <td>0.496952</td>\n",
       "      <td>0.759414</td>\n",
       "    </tr>\n",
       "    <tr>\n",
       "      <th>7</th>\n",
       "      <td>[165, 171, 497, 210, 72, 98]</td>\n",
       "      <td>&lt;class 'torch.nn.modules.activation.Sigmoid'&gt;</td>\n",
       "      <td>0.2</td>\n",
       "      <td>&lt;class 'torch.optim.adam.Adam'&gt;</td>\n",
       "      <td>0.002819</td>\n",
       "      <td>64</td>\n",
       "      <td>0.462039</td>\n",
       "      <td>0.783656</td>\n",
       "      <td>0.464926</td>\n",
       "      <td>0.759414</td>\n",
       "    </tr>\n",
       "    <tr>\n",
       "      <th>8</th>\n",
       "      <td>[224, 378, 417, 395, 247, 272]</td>\n",
       "      <td>&lt;class 'torch.nn.modules.activation.LeakyReLU'&gt;</td>\n",
       "      <td>0.1</td>\n",
       "      <td>&lt;class 'torch.optim.adam.Adam'&gt;</td>\n",
       "      <td>0.002783</td>\n",
       "      <td>1024</td>\n",
       "      <td>0.421958</td>\n",
       "      <td>0.788895</td>\n",
       "      <td>0.487335</td>\n",
       "      <td>0.759414</td>\n",
       "    </tr>\n",
       "    <tr>\n",
       "      <th>9</th>\n",
       "      <td>[70, 396, 357, 279, 451, 70]</td>\n",
       "      <td>&lt;class 'torch.nn.modules.activation.LeakyReLU'&gt;</td>\n",
       "      <td>0.2</td>\n",
       "      <td>&lt;class 'torch.optim.adam.Adam'&gt;</td>\n",
       "      <td>0.003391</td>\n",
       "      <td>64</td>\n",
       "      <td>0.360291</td>\n",
       "      <td>0.834992</td>\n",
       "      <td>0.490880</td>\n",
       "      <td>0.755230</td>\n",
       "    </tr>\n",
       "  </tbody>\n",
       "</table>\n",
       "</div>"
      ],
      "text/plain": [
       "                       hidden_layers  \\\n",
       "0  [74, 137, 217, 281, 93, 132, 128]   \n",
       "1               [376, 275, 118, 160]   \n",
       "2                         [426, 166]   \n",
       "3           [141, 182, 220, 256, 97]   \n",
       "4                 [270, 59, 20, 254]   \n",
       "5                     [404, 242, 68]   \n",
       "6     [120, 473, 175, 453, 314, 173]   \n",
       "7       [165, 171, 497, 210, 72, 98]   \n",
       "8     [224, 378, 417, 395, 247, 272]   \n",
       "9       [70, 396, 357, 279, 451, 70]   \n",
       "\n",
       "                                     activation_fn  dropout_rate  \\\n",
       "0  <class 'torch.nn.modules.activation.LeakyReLU'>           0.1   \n",
       "1  <class 'torch.nn.modules.activation.LeakyReLU'>           0.1   \n",
       "2    <class 'torch.nn.modules.activation.Sigmoid'>           0.1   \n",
       "3  <class 'torch.nn.modules.activation.LeakyReLU'>           0.0   \n",
       "4  <class 'torch.nn.modules.activation.LeakyReLU'>           0.2   \n",
       "5       <class 'torch.nn.modules.activation.ReLU'>           0.5   \n",
       "6       <class 'torch.nn.modules.activation.ReLU'>           0.0   \n",
       "7    <class 'torch.nn.modules.activation.Sigmoid'>           0.2   \n",
       "8  <class 'torch.nn.modules.activation.LeakyReLU'>           0.1   \n",
       "9  <class 'torch.nn.modules.activation.LeakyReLU'>           0.2   \n",
       "\n",
       "                    optimizer_type  learning_rate  batch_size  train_loss  \\\n",
       "0  <class 'torch.optim.adam.Adam'>       0.004646          32    0.393344   \n",
       "1  <class 'torch.optim.adam.Adam'>       0.002324        1024    0.388189   \n",
       "2  <class 'torch.optim.adam.Adam'>       0.005917          32    0.374267   \n",
       "3  <class 'torch.optim.adam.Adam'>       0.004665        1024    0.393049   \n",
       "4  <class 'torch.optim.adam.Adam'>       0.006653        1024    0.404158   \n",
       "5  <class 'torch.optim.adam.Adam'>       0.003845         256    0.363052   \n",
       "6  <class 'torch.optim.adam.Adam'>       0.009848         128    0.360099   \n",
       "7  <class 'torch.optim.adam.Adam'>       0.002819          64    0.462039   \n",
       "8  <class 'torch.optim.adam.Adam'>       0.002783        1024    0.421958   \n",
       "9  <class 'torch.optim.adam.Adam'>       0.003391          64    0.360291   \n",
       "\n",
       "   train_acc  val_loss   val_acc  \n",
       "0   0.830801  0.493115  0.774059  \n",
       "1   0.830801  0.482278  0.765690  \n",
       "2   0.808800  0.490309  0.765690  \n",
       "3   0.833421  0.470787  0.761506  \n",
       "4   0.819801  0.493906  0.761506  \n",
       "5   0.843897  0.495682  0.761506  \n",
       "6   0.831325  0.496952  0.759414  \n",
       "7   0.783656  0.464926  0.759414  \n",
       "8   0.788895  0.487335  0.759414  \n",
       "9   0.834992  0.490880  0.755230  "
      ]
     },
     "metadata": {},
     "output_type": "display_data"
    }
   ],
   "source": [
    "display(results_df.head(10))"
   ]
  }
 ],
 "metadata": {
  "kernelspec": {
   "display_name": "AutoML",
   "language": "python",
   "name": "python3"
  },
  "language_info": {
   "codemirror_mode": {
    "name": "ipython",
    "version": 3
   },
   "file_extension": ".py",
   "mimetype": "text/x-python",
   "name": "python",
   "nbconvert_exporter": "python",
   "pygments_lexer": "ipython3",
   "version": "3.11.11"
  }
 },
 "nbformat": 4,
 "nbformat_minor": 5
}
